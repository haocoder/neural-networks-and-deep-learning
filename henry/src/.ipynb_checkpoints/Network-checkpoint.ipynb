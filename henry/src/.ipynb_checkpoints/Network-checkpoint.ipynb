{
 "cells": [
  {
   "cell_type": "code",
   "execution_count": 1,
   "metadata": {
    "collapsed": true
   },
   "outputs": [],
   "source": [
    "import numpy as np"
   ]
  },
  {
   "cell_type": "code",
   "execution_count": 3,
   "metadata": {
    "collapsed": true
   },
   "outputs": [],
   "source": [
    "# neural network\n",
    "class Network(object):\n",
    "    def __int__(self, sizes):\n",
    "        self.num_layers = len(sizes)      # sizes每个元素表示网络每层的神经元数\n",
    "        self.sizes = sizes\n",
    "        self.biases = [np.random.randn(y,1) for y in size[1:]]\n",
    "        self.weights =[np.random.randn(y,x) for x, y in zip(size[:-1], size[1:])]\n",
    "    \n",
    "    def sigmoid(z):\n",
    "        \"\"\"sigmoid神经元激励函数，向量量化表示\"\"\"\n",
    "        return 1.0/(1.0 + np.exp(-z))\n",
    "    \n",
    "    def feedforward(self, a):\n",
    "        \"\"\" 对于输入a（(n,1)Numpy ndarray）,前馈网络返回相应的输出\"\"\"\n",
    "        for b, w in zip(self.biases, self.weights):\n",
    "            a = sigmoid(np.dot(w, a) + b)\n",
    "        return a\n",
    "    \n",
    "    def SGD(self, training_data, epochs, mini_batch_size, eta, test_data=None):\n",
    "        \"\"\"使用Mini_batch随机梯度下降算法训练神经网络\n",
    "        \"training_data\"是元祖列表(x,y),表示训练的输入，输出\n",
    "        \"test_data\"用来在每轮训练结束后评测网络\n",
    "        \"\"\"\n",
    "        if test_data: \n",
    "            n_test = len(test_data)\n",
    "        n = len(training_data)\n",
    "        for j in range(epochs):\n",
    "            random.shuffle(training_data)\n",
    "            mini_batches = [training_data[k:k+mini_batch_size]\n",
    "                           for k in xrange(0, n, mini_batch_size)]\n",
    "            for mini_batch in mini_batches:\n",
    "                self.update_mini_batch(mini_batch, eta)\n",
    "            if test_data:\n",
    "                print \"Epoch {0}:{1}/{2}\".format(j, self.evaluate(test_data),n_test)\n",
    "            else:\n",
    "                print \"Epoch {0} complete\".format(j)\n",
    "    \n",
    "    def update_mini_batch(self, mini_batch, eta):\n",
    "        \"\"\"在mini_batch样本上使用后向传播梯度下降更新网络权重和偏置\n",
    "        \"mini_batch\"是元祖(x,y)列表,表示输入和输出\n",
    "        \"eta\"是学习速率\n",
    "        \"\"\"\n",
    "        nabla_b = [np.zeros(b.shape) for b in self.biases]\n",
    "        nabla_w = [np.zeors(w.shape) for w in self.weights]\n",
    "        for x, y in mini_batch:\n",
    "            delta_nabla_b, delta_nabla_w = self.backprop(x,y)\n",
    "            nabla_b = [nb+dnb for nb, dnb in zip(nabla_b, delta_nabla_b)]\n",
    "            nabla_w = [nw+dnw for nw, dnw in zip(nabla_w, delta_nabla_w)]\n",
    "        self.weights = [w - (eta/len(mini_batch))*nw] for w, nw in zip(self.weights, nabla_w)\n",
    "        self.biases = [b -(eta/len(mini_batch)*nb) for b, nb in zip(self.biases, nabla_b)]\n",
    "    "
   ]
  },
  {
   "cell_type": "code",
   "execution_count": 2,
   "metadata": {
    "collapsed": true
   },
   "outputs": [],
   "source": []
  },
  {
   "cell_type": "code",
   "execution_count": null,
   "metadata": {
    "collapsed": true
   },
   "outputs": [],
   "source": []
  }
 ],
 "metadata": {
  "kernelspec": {
   "display_name": "Python 2",
   "language": "python",
   "name": "python2"
  },
  "language_info": {
   "codemirror_mode": {
    "name": "ipython",
    "version": 2
   },
   "file_extension": ".py",
   "mimetype": "text/x-python",
   "name": "python",
   "nbconvert_exporter": "python",
   "pygments_lexer": "ipython2",
   "version": "2.7.10"
  }
 },
 "nbformat": 4,
 "nbformat_minor": 1
}
